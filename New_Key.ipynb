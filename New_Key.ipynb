{
  "nbformat": 4,
  "nbformat_minor": 0,
  "metadata": {
    "colab": {
      "name": "New_Key.ipynb",
      "provenance": [],
      "authorship_tag": "ABX9TyNCBizi1za200AonGInIiJq",
      "include_colab_link": true
    },
    "kernelspec": {
      "name": "python3",
      "display_name": "Python 3"
    }
  },
  "cells": [
    {
      "cell_type": "markdown",
      "metadata": {
        "id": "view-in-github",
        "colab_type": "text"
      },
      "source": [
        "<a href=\"https://colab.research.google.com/github/microprediction/keymaker/blob/main/New_Key.ipynb\" target=\"_parent\"><img src=\"https://colab.research.google.com/assets/colab-badge.svg\" alt=\"Open In Colab\"/></a>"
      ]
    },
    {
      "cell_type": "code",
      "metadata": {
        "id": "QCgJ1PzvDwfN"
      },
      "source": [
        "!pip install microprediction"
      ],
      "execution_count": null,
      "outputs": []
    },
    {
      "cell_type": "code",
      "metadata": {
        "id": "VI4g5AuSD7vL"
      },
      "source": [
        "from microprediction import new_key\n",
        "write_key = new_key(difficulty=10)\n",
        "print(write_key)"
      ],
      "execution_count": null,
      "outputs": []
    }
  ]
}